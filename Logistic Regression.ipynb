{
 "cells": [
  {
   "cell_type": "markdown",
   "id": "34afd309-9d57-4d97-9dcb-0450a645e3f1",
   "metadata": {},
   "source": [
    "# Logistic Regression"
   ]
  },
  {
   "cell_type": "markdown",
   "id": "d148fd95-cb33-4256-934f-6a91719c1216",
   "metadata": {},
   "source": [
    "- Logistic regression is one of the most popular  Supervised  Machine Learning algorithms, It is used for predicting the categorical dependent variable using a given set of independent variables.\n",
    "\n",
    "- Logistic regression predicts the output of a categorical dependent variable. Therefore the outcome must be a categorical or discrete value. It can be either Yes or No, 0 or 1, true or False, etc. but instead of giving the exact value as 0 and 1, it gives the probabilistic values which lie between 0 and 1.\n",
    "- Logistic Regression is much similar to the Linear Regression except that how they are used. Linear Regression is used for solving Regression problems, whereas Logistic regression is used for solving the classification problems.\n",
    "- In Logistic regression, instead of fitting a regression line, we fit an \"S\" shaped logistic function, which predicts two maximum values (0 or 1).\n",
    "\n",
    "- Logistic Regression can be used to classify the observations using different types of data and can easily determine the most effective variables used for the classification. The below image is showing the logistic function:\n"
   ]
  },
  {
   "attachments": {
    "b1410d75-ef10-47a1-b137-0cc54e058174.png": {
     "image/png": "[encoded data removed]"
    }
   },
   "cell_type": "markdown",
   "id": "3cf81690-ae8e-409f-a9f9-4b977f23213f",
   "metadata": {},
   "source": [
    "![image.png](attachment:b1410d75-ef10-47a1-b137-0cc54e058174.png)"
   ]
  },
  {
   "cell_type": "markdown",
   "id": "d3c3364d-ef65-4ad3-9e0b-0cefae7d6ab3",
   "metadata": {},
   "source": [
    "Note: Logistic regression uses the concept of predictive modeling as regression; therefore, it is called logistic regression, but is used to classify samples; Therefore, it falls under the classification algorithm."
   ]
  },
  {
   "cell_type": "markdown",
   "id": "3d035366-b83f-456a-848c-6326b405a1f3",
   "metadata": {},
   "source": [
    "### Logistic Function (Sigmoid Function):\n",
    "- The sigmoid function is a mathematical function used to map the predicted values to probabilities.\n",
    "    It maps any real value into another value within a range of 0 and 1.\n",
    "- The value of the logistic regression must be between 0 and 1, which cannot go beyond this limit, so it forms a curve like the \"S\" form. The S-form curve is called the Sigmoid function or the logistic function.\n",
    "- In logistic regression, we use the concept of the threshold value, which defines the probability of either 0 or 1. Such as values above the threshold value tends to 1, and a value below the threshold values tends to 0.\n"
   ]
  },
  {
   "cell_type": "markdown",
   "id": "92a560cb-0b4e-4c12-9395-099894fb6bf9",
   "metadata": {
    "tags": []
   },
   "source": [
    "### Assumptions for Logistic Regression:\n",
    "- The dependent variable must be categorical in nature.\n",
    "- The independent variable should not have multi-collinearity.\n"
   ]
  },
  {
   "cell_type": "markdown",
   "id": "0212cd50-423c-429b-80d3-c4050c7f8480",
   "metadata": {},
   "source": [
    "### Logistic Regression Equation:\n",
    "- The Logistic regression equation can be obtained from the Linear Regression equation. The mathematical steps to get Logistic Regression equations are given below:\n",
    "\n",
    "    We know the equation of the straight line can be written as:\n"
   ]
  },
  {
   "attachments": {
    "847bd039-2fa1-465d-9b94-52f4a5b2f959.png": {
     "image/png": "[encoded data removed]"
    }
   },
   "cell_type": "markdown",
   "id": "f27455b2-6109-4476-97a4-0bb193720987",
   "metadata": {},
   "source": [
    "![image.png](attachment:847bd039-2fa1-465d-9b94-52f4a5b2f959.png)"
   ]
  },
  {
   "cell_type": "markdown",
   "id": "fd492ef2-7df0-4031-8cdd-76585cb866f8",
   "metadata": {},
   "source": [
    "In Logistic Regression y can be between 0 and 1 only, so for this let's divide the above equation by (1-y):"
   ]
  },
  {
   "attachments": {
    "d874a927-3163-4e65-8b09-360dc08c980b.png": {
     "image/png": "[encoded data removed]"
    }
   },
   "cell_type": "markdown",
   "id": "f1c0194e-ffb2-45a7-a34d-f8d7bb3e26a4",
   "metadata": {},
   "source": [
    "![image.png](attachment:d874a927-3163-4e65-8b09-360dc08c980b.png)\n",
    "- But we need range between -[infinity] to +[infinity], then take logarithm of the equation it will become:"
   ]
  },
  {
   "attachments": {
    "96c8c2a2-b8fd-4b40-b6cf-18fb9c663cc4.png": {
     "image/png": "[encoded data removed]"
    }
   },
   "cell_type": "markdown",
   "id": "9b88494f-3df5-4841-9031-9dadd965be07",
   "metadata": {},
   "source": [
    "![image.png](attachment:96c8c2a2-b8fd-4b40-b6cf-18fb9c663cc4.png)\n",
    "- The above equation is the final equation for Logistic Regression."
   ]
  },
  {
   "cell_type": "markdown",
   "id": "652f637f-04eb-47f5-8960-f7784a90c7c6",
   "metadata": {},
   "source": [
    "### Type of Logistic Regression:\n",
    "\n",
    "- On the basis of the categories, Logistic Regression can be classified into three types:\n",
    "- Binomial: In binomial Logistic regression, there can be only two possible types of the dependent variables, such as 0 or 1, Pass or Fail, etc.\n",
    "- Multinomial: In multinomial Logistic regression, there can be 3 or more possible unordered types of the dependent variable, such as \"cat\", \"dogs\", or \"sheep\"\n",
    "- Ordinal: In ordinal Logistic regression, there can be 3 or more possible ordered types of dependent variables, such as \"low\", \"Medium\", or \"High\".\n"
   ]
  },
  {
   "cell_type": "markdown",
   "id": "bd2aa128-57cf-4e69-ab08-57da64d64115",
   "metadata": {},
   "source": [
    "### Steps in Logistic Regression:\n",
    "- Data Pre-processing step\n",
    "- Fitting Logistic Regression to the Training set\n",
    "- Predicting the test result\n",
    "- Test accuracy of the result(Creation of Confusion matrix)\n",
    "-  Visualizing the test set result.\n"
   ]
  },
  {
   "cell_type": "markdown",
   "id": "9aba4747-34aa-4363-adc7-edd9fcf6e534",
   "metadata": {},
   "source": [
    "1. Data Pre-processing step: In this step, we will pre-process/prepare the data so that we can use it in our code efficiently. It will be the same as we have done in Data pre-processing topic. The code for this is given below:"
   ]
  },
  {
   "cell_type": "code",
   "execution_count": 2,
   "id": "bfde14f8-7d4b-4d00-b8cd-cb450c141deb",
   "metadata": {},
   "outputs": [],
   "source": [
    "# Import the dependencies\n",
    "import matplotlib.pyplot as plt\n",
    "import seaborn as sns\n",
    "from sklearn.linear_model import LogisticRegression\n",
    "from sklearn.metrics import classification_report\n",
    "from sklearn.metrics import accuracy_score\n",
    "from sklearn.model_selection import train_test_split"
   ]
  },
  {
   "cell_type": "markdown",
   "id": "6328de4b-2cc5-4057-9d8d-92324947001a",
   "metadata": {},
   "source": [
    "Next I will load the data set from the seaborn library, store it into a variable called data, and print the first 5 rows of data."
   ]
  },
  {
   "cell_type": "code",
   "execution_count": 3,
   "id": "e709e376-6c99-4122-92c6-339743a49010",
   "metadata": {},
   "outputs": [
    {
     "data": {
      "text/html": [
       "<div>\n",
       "<style scoped>\n",
       "    .dataframe tbody tr th:only-of-type {\n",
       "        vertical-align: middle;\n",
       "    }\n",
       "\n",
       "    .dataframe tbody tr th {\n",
       "        vertical-align: top;\n",
       "    }\n",
       "\n",
       "    .dataframe thead th {\n",
       "        text-align: right;\n",
       "    }\n",
       "</style>\n",
       "<table border=\"1\" class=\"dataframe\">\n",
       "  <thead>\n",
       "    <tr style=\"text-align: right;\">\n",
       "      <th></th>\n",
       "      <th>sepal_length</th>\n",
       "      <th>sepal_width</th>\n",
       "      <th>petal_length</th>\n",
       "      <th>petal_width</th>\n",
       "      <th>species</th>\n",
       "    </tr>\n",
       "  </thead>\n",
       "  <tbody>\n",
       "    <tr>\n",
       "      <th>0</th>\n",
       "      <td>5.1</td>\n",
       "      <td>3.5</td>\n",
       "      <td>1.4</td>\n",
       "      <td>0.2</td>\n",
       "      <td>setosa</td>\n",
       "    </tr>\n",
       "    <tr>\n",
       "      <th>1</th>\n",
       "      <td>4.9</td>\n",
       "      <td>3.0</td>\n",
       "      <td>1.4</td>\n",
       "      <td>0.2</td>\n",
       "      <td>setosa</td>\n",
       "    </tr>\n",
       "    <tr>\n",
       "      <th>2</th>\n",
       "      <td>4.7</td>\n",
       "      <td>3.2</td>\n",
       "      <td>1.3</td>\n",
       "      <td>0.2</td>\n",
       "      <td>setosa</td>\n",
       "    </tr>\n",
       "    <tr>\n",
       "      <th>3</th>\n",
       "      <td>4.6</td>\n",
       "      <td>3.1</td>\n",
       "      <td>1.5</td>\n",
       "      <td>0.2</td>\n",
       "      <td>setosa</td>\n",
       "    </tr>\n",
       "    <tr>\n",
       "      <th>4</th>\n",
       "      <td>5.0</td>\n",
       "      <td>3.6</td>\n",
       "      <td>1.4</td>\n",
       "      <td>0.2</td>\n",
       "      <td>setosa</td>\n",
       "    </tr>\n",
       "  </tbody>\n",
       "</table>\n",
       "</div>"
      ],
      "text/plain": [
       "   sepal_length  sepal_width  petal_length  petal_width species\n",
       "0           5.1          3.5           1.4          0.2  setosa\n",
       "1           4.9          3.0           1.4          0.2  setosa\n",
       "2           4.7          3.2           1.3          0.2  setosa\n",
       "3           4.6          3.1           1.5          0.2  setosa\n",
       "4           5.0          3.6           1.4          0.2  setosa"
      ]
     },
     "execution_count": 3,
     "metadata": {},
     "output_type": "execute_result"
    }
   ],
   "source": [
    "#Load the data set\n",
    "data = sns.load_dataset(\"iris\")\n",
    "data.head()"
   ]
  },
  {
   "cell_type": "markdown",
   "id": "d656fb6b-6723-4f6f-b858-b05c9318032a",
   "metadata": {},
   "source": [
    "Start preparing the training data set by storing all of the independent variables/columns/features into a variable called ‘X’, and store the independent variable/target into a variable called ‘y’."
   ]
  },
  {
   "cell_type": "code",
   "execution_count": 4,
   "id": "1030f267-496f-497e-ad04-aaf834394876",
   "metadata": {},
   "outputs": [],
   "source": [
    "#Prepare the training set\n",
    "\n",
    "# X = feature values, all the columns except the last column\n",
    "X = data.iloc[:, :-1]\n",
    "\n",
    "# y = target values, last column of the data frame\n",
    "y = data.iloc[:, -1]"
   ]
  },
  {
   "cell_type": "markdown",
   "id": "1b88eb76-4b3f-4a1d-aeed-f3569f249947",
   "metadata": {},
   "source": [
    "Plot the relation of each feature / column with each species. I will use a scatter plot to show this relation. The sepal length will be blue, sepal width will be green, petal length will be red and petal width will be black."
   ]
  },
  {
   "cell_type": "code",
   "execution_count": 5,
   "id": "0529601c-638e-40c2-96de-98cc9c24b8ba",
   "metadata": {},
   "outputs": [
    {
     "data": {
      "image/png": "[encoded data removed]",
      "text/plain": [
       "<Figure size 432x288 with 1 Axes>"
      ]
     },
     "metadata": {
      "needs_background": "light"
     },
     "output_type": "display_data"
    }
   ],
   "source": [
    "# Plot the relation of each feature with each species\n",
    "plt.xlabel('Features')\n",
    "plt.ylabel('Species')\n",
    "\n",
    "pltX = data.loc[:, 'sepal_length']\n",
    "pltY = data.loc[:,'species']\n",
    "plt.scatter(pltX, pltY, color='blue', label='sepal_length')\n",
    "\n",
    "pltX = data.loc[:, 'sepal_width']\n",
    "pltY = data.loc[:,'species']\n",
    "plt.scatter(pltX, pltY, color='green', label='sepal_width')\n",
    "\n",
    "pltX = data.loc[:, 'petal_length']\n",
    "pltY = data.loc[:,'species']\n",
    "plt.scatter(pltX, pltY, color='red', label='petal_length')\n",
    "\n",
    "pltX = data.loc[:, 'petal_width']\n",
    "pltY = data.loc[:,'species']\n",
    "plt.scatter(pltX, pltY, color='black', label='petal_width')\n",
    "\n",
    "plt.legend(loc=4, prop={'size':8})\n",
    "plt.show()"
   ]
  },
  {
   "cell_type": "markdown",
   "id": "fec00211-494a-4ae5-b5f3-2172aab7ae75",
   "metadata": {},
   "source": [
    "Split the data into 80% training and 20 % testing by using the method train_test_split() from the sklearn.model_selection library, and store the data into x_train, x_test, y_train, and y_test."
   ]
  },
  {
   "cell_type": "code",
   "execution_count": 6,
   "id": "4ac9b22d-f6b6-458d-8950-f87591af4cf2",
   "metadata": {},
   "outputs": [],
   "source": [
    "#Split the data into 80% training and 20% testing\n",
    "x_train, x_test, y_train, y_test = train_test_split(X, y, test_size=0.2, random_state=42)"
   ]
  },
  {
   "cell_type": "code",
   "execution_count": null,
   "id": "2ef1ddec-87f8-4b55-b14d-0500b0dde4aa",
   "metadata": {},
   "outputs": [],
   "source": [
    "Create and train the Logistic Regression model !"
   ]
  },
  {
   "cell_type": "code",
   "execution_count": 7,
   "id": "d1ef9839-995e-420a-acf6-a88f9b7c00c7",
   "metadata": {},
   "outputs": [
    {
     "name": "stderr",
     "output_type": "stream",
     "text": [
      "C:\\Users\\karthik\\AppData\\Local\\Programs\\Python\\Python310\\lib\\site-packages\\sklearn\\linear_model\\_logistic.py:814: ConvergenceWarning: lbfgs failed to converge (status=1):\n",
      "STOP: TOTAL NO. of ITERATIONS REACHED LIMIT.\n",
      "\n",
      "Increase the number of iterations (max_iter) or scale the data as shown in:\n",
      "    https://scikit-learn.org/stable/modules/preprocessing.html\n",
      "Please also refer to the documentation for alternative solver options:\n",
      "    https://scikit-learn.org/stable/modules/linear_model.html#logistic-regression\n",
      "  n_iter_i = _check_optimize_result(\n"
     ]
    },
    {
     "data": {
      "text/plain": [
       "LogisticRegression()"
      ]
     },
     "execution_count": 7,
     "metadata": {},
     "output_type": "execute_result"
    }
   ],
   "source": [
    "#Train the model\n",
    "model = LogisticRegression()\n",
    "model.fit(x_train, y_train) #Training the model"
   ]
  },
  {
   "cell_type": "markdown",
   "id": "717d7d8d-577e-482c-9a86-75ac3ca317bd",
   "metadata": {},
   "source": [
    "Now that the model is trained, I will print the predictions and get a few metrics from the model based off of the testing data set. Based off of the metrics, it looks like the model correctly classified every species."
   ]
  },
  {
   "cell_type": "code",
   "execution_count": 8,
   "id": "cbcfe7f3-0c39-4b6a-97e8-f35b3d5ef2a6",
   "metadata": {},
   "outputs": [
    {
     "name": "stdout",
     "output_type": "stream",
     "text": [
      "['versicolor' 'setosa' 'virginica' 'versicolor' 'versicolor' 'setosa'\n",
      " 'versicolor' 'virginica' 'versicolor' 'versicolor' 'virginica' 'setosa'\n",
      " 'setosa' 'setosa' 'setosa' 'versicolor' 'virginica' 'versicolor'\n",
      " 'versicolor' 'virginica' 'setosa' 'virginica' 'setosa' 'virginica'\n",
      " 'virginica' 'virginica' 'virginica' 'virginica' 'setosa' 'setosa']\n",
      "\n",
      "              precision    recall  f1-score   support\n",
      "\n",
      "      setosa       1.00      1.00      1.00        10\n",
      "  versicolor       1.00      1.00      1.00         9\n",
      "   virginica       1.00      1.00      1.00        11\n",
      "\n",
      "    accuracy                           1.00        30\n",
      "   macro avg       1.00      1.00      1.00        30\n",
      "weighted avg       1.00      1.00      1.00        30\n",
      "\n",
      "1.0\n"
     ]
    }
   ],
   "source": [
    "#Test the model\n",
    "predictions = model.predict(x_test)\n",
    "print(predictions)# printing predictions\n",
    "\n",
    "print()# Printing new line\n",
    "\n",
    "#Check precision, recall, f1-score\n",
    "print( classification_report(y_test, predictions) )\n",
    "\n",
    "print( accuracy_score(y_test, predictions))"
   ]
  },
  {
   "cell_type": "code",
   "execution_count": null,
   "id": "3c47e845-606e-4ec9-9080-91540f395f43",
   "metadata": {},
   "outputs": [],
   "source": []
  }
 ],
 "metadata": {
  "kernelspec": {
   "display_name": "Python 3 (ipykernel)",
   "language": "python",
   "name": "python3"
  },
  "language_info": {
   "codemirror_mode": {
    "name": "ipython",
    "version": 3
   },
   "file_extension": ".py",
   "mimetype": "text/x-python",
   "name": "python",
   "nbconvert_exporter": "python",
   "pygments_lexer": "ipython3",
   "version": "3.10.2"
  }
 },
 "nbformat": 4,
 "nbformat_minor": 5
}
