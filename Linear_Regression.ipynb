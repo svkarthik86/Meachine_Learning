{
 "cells": [
  {
   "cell_type": "markdown",
   "metadata": {},
   "source": [
    "# How to Build a Machine Learning Model in Python\n",
    "\n",
    "## Learning Objectives\n",
    "In the modeling stage of the machine learning process, our goal is to choose and apply the appropriate machine learning approach that works with the data we have and solves the problem that we intend to solve. If our objective is to build a model that predicts a numeric or continuous value, then our problem is known as a regression problem. One of the most common models used in solving regression problems is **Linear Regression**. By the end of the tutorial, you will have learned:\n",
    "\n",
    "+ how to collect, explore and prepare data\n",
    "+ how to build and evaluate a model"
   ]
  },
  {
   "cell_type": "markdown",
   "metadata": {
    "colab_type": "text",
    "id": "H4h5CV-p3fsD"
   },
   "source": [
    "## 1. Collect the Data"
   ]
  },
  {
   "cell_type": "code",
   "execution_count": 49,
   "metadata": {
    "colab": {},
    "colab_type": "code",
    "id": "ZBtXnome3fr0"
   },
   "outputs": [
    {
     "data": {
      "text/html": [
       "<div>\n",
       "<style scoped>\n",
       "    .dataframe tbody tr th:only-of-type {\n",
       "        vertical-align: middle;\n",
       "    }\n",
       "\n",
       "    .dataframe tbody tr th {\n",
       "        vertical-align: top;\n",
       "    }\n",
       "\n",
       "    .dataframe thead th {\n",
       "        text-align: right;\n",
       "    }\n",
       "</style>\n",
       "<table border=\"1\" class=\"dataframe\">\n",
       "  <thead>\n",
       "    <tr style=\"text-align: right;\">\n",
       "      <th></th>\n",
       "      <th>temperature</th>\n",
       "      <th>humidity</th>\n",
       "      <th>windspeed</th>\n",
       "      <th>rentals</th>\n",
       "    </tr>\n",
       "  </thead>\n",
       "  <tbody>\n",
       "    <tr>\n",
       "      <th>0</th>\n",
       "      <td>46.716528</td>\n",
       "      <td>0.815969</td>\n",
       "      <td>13.669663</td>\n",
       "      <td>985</td>\n",
       "    </tr>\n",
       "    <tr>\n",
       "      <th>1</th>\n",
       "      <td>48.350239</td>\n",
       "      <td>0.800497</td>\n",
       "      <td>15.199782</td>\n",
       "      <td>801</td>\n",
       "    </tr>\n",
       "    <tr>\n",
       "      <th>2</th>\n",
       "      <td>34.212394</td>\n",
       "      <td>0.592097</td>\n",
       "      <td>13.247558</td>\n",
       "      <td>1349</td>\n",
       "    </tr>\n",
       "    <tr>\n",
       "      <th>3</th>\n",
       "      <td>34.520000</td>\n",
       "      <td>0.623196</td>\n",
       "      <td>11.687963</td>\n",
       "      <td>1562</td>\n",
       "    </tr>\n",
       "    <tr>\n",
       "      <th>4</th>\n",
       "      <td>36.800562</td>\n",
       "      <td>0.624643</td>\n",
       "      <td>13.148281</td>\n",
       "      <td>1600</td>\n",
       "    </tr>\n",
       "  </tbody>\n",
       "</table>\n",
       "</div>"
      ],
      "text/plain": [
       "   temperature  humidity  windspeed  rentals\n",
       "0    46.716528  0.815969  13.669663      985\n",
       "1    48.350239  0.800497  15.199782      801\n",
       "2    34.212394  0.592097  13.247558     1349\n",
       "3    34.520000  0.623196  11.687963     1562\n",
       "4    36.800562  0.624643  13.148281     1600"
      ]
     },
     "execution_count": 49,
     "metadata": {},
     "output_type": "execute_result"
    }
   ],
   "source": [
    "import pandas as pd\n",
    "bikes = pd.read_csv(\"https://raw.githubusercontent.com/svkarthik86/Meachine_Learning/main/bikes.csv\")\n",
    "bikes.head()"
   ]
  },
  {
   "cell_type": "markdown",
   "metadata": {},
   "source": [
    "## 2. Explore the Data"
   ]
  },
  {
   "cell_type": "code",
   "execution_count": 50,
   "metadata": {},
   "outputs": [
    {
     "name": "stdout",
     "output_type": "stream",
     "text": [
      "<class 'pandas.core.frame.DataFrame'>\n",
      "RangeIndex: 731 entries, 0 to 730\n",
      "Data columns (total 4 columns):\n",
      " #   Column       Non-Null Count  Dtype  \n",
      "---  ------       --------------  -----  \n",
      " 0   temperature  731 non-null    float64\n",
      " 1   humidity     731 non-null    float64\n",
      " 2   windspeed    731 non-null    float64\n",
      " 3   rentals      731 non-null    int64  \n",
      "dtypes: float64(3), int64(1)\n",
      "memory usage: 23.0 KB\n"
     ]
    }
   ],
   "source": [
    "bikes.info()"
   ]
  },
  {
   "cell_type": "code",
   "execution_count": 51,
   "metadata": {},
   "outputs": [
    {
     "data": {
      "text/html": [
       "<div>\n",
       "<style scoped>\n",
       "    .dataframe tbody tr th:only-of-type {\n",
       "        vertical-align: middle;\n",
       "    }\n",
       "\n",
       "    .dataframe tbody tr th {\n",
       "        vertical-align: top;\n",
       "    }\n",
       "\n",
       "    .dataframe thead th {\n",
       "        text-align: right;\n",
       "    }\n",
       "</style>\n",
       "<table border=\"1\" class=\"dataframe\">\n",
       "  <thead>\n",
       "    <tr style=\"text-align: right;\">\n",
       "      <th></th>\n",
       "      <th>temperature</th>\n",
       "      <th>humidity</th>\n",
       "      <th>windspeed</th>\n",
       "      <th>rentals</th>\n",
       "    </tr>\n",
       "  </thead>\n",
       "  <tbody>\n",
       "    <tr>\n",
       "      <th>count</th>\n",
       "      <td>731.000000</td>\n",
       "      <td>731.000000</td>\n",
       "      <td>731.000000</td>\n",
       "      <td>731.000000</td>\n",
       "    </tr>\n",
       "    <tr>\n",
       "      <th>mean</th>\n",
       "      <td>59.509553</td>\n",
       "      <td>0.486937</td>\n",
       "      <td>9.238886</td>\n",
       "      <td>4504.348837</td>\n",
       "    </tr>\n",
       "    <tr>\n",
       "      <th>std</th>\n",
       "      <td>15.486114</td>\n",
       "      <td>0.185415</td>\n",
       "      <td>3.379815</td>\n",
       "      <td>1937.211452</td>\n",
       "    </tr>\n",
       "    <tr>\n",
       "      <th>min</th>\n",
       "      <td>22.602432</td>\n",
       "      <td>0.000000</td>\n",
       "      <td>0.932208</td>\n",
       "      <td>22.000000</td>\n",
       "    </tr>\n",
       "    <tr>\n",
       "      <th>25%</th>\n",
       "      <td>46.117264</td>\n",
       "      <td>0.353548</td>\n",
       "      <td>6.863568</td>\n",
       "      <td>3152.000000</td>\n",
       "    </tr>\n",
       "    <tr>\n",
       "      <th>50%</th>\n",
       "      <td>59.758972</td>\n",
       "      <td>0.502227</td>\n",
       "      <td>9.503508</td>\n",
       "      <td>4548.000000</td>\n",
       "    </tr>\n",
       "    <tr>\n",
       "      <th>75%</th>\n",
       "      <td>73.048236</td>\n",
       "      <td>0.624671</td>\n",
       "      <td>11.814559</td>\n",
       "      <td>5956.000000</td>\n",
       "    </tr>\n",
       "    <tr>\n",
       "      <th>max</th>\n",
       "      <td>90.497028</td>\n",
       "      <td>0.972500</td>\n",
       "      <td>21.126627</td>\n",
       "      <td>8714.000000</td>\n",
       "    </tr>\n",
       "  </tbody>\n",
       "</table>\n",
       "</div>"
      ],
      "text/plain": [
       "       temperature    humidity   windspeed      rentals\n",
       "count   731.000000  731.000000  731.000000   731.000000\n",
       "mean     59.509553    0.486937    9.238886  4504.348837\n",
       "std      15.486114    0.185415    3.379815  1937.211452\n",
       "min      22.602432    0.000000    0.932208    22.000000\n",
       "25%      46.117264    0.353548    6.863568  3152.000000\n",
       "50%      59.758972    0.502227    9.503508  4548.000000\n",
       "75%      73.048236    0.624671   11.814559  5956.000000\n",
       "max      90.497028    0.972500   21.126627  8714.000000"
      ]
     },
     "execution_count": 51,
     "metadata": {},
     "output_type": "execute_result"
    }
   ],
   "source": [
    "bikes.describe() # descriptive Statistics"
   ]
  },
  {
   "cell_type": "code",
   "execution_count": 56,
   "metadata": {
    "scrolled": true
   },
   "outputs": [
    {
     "data": {
      "text/plain": [
       "<AxesSubplot:xlabel='temperature', ylabel='rentals'>"
      ]
     },
     "execution_count": 56,
     "metadata": {},
     "output_type": "execute_result"
    },
    {
     "data": {
      "image/png": "[encoded data removed]",
      "text/plain": [
       "<Figure size 432x288 with 1 Axes>"
      ]
     },
     "metadata": {
      "needs_background": "light"
     },
     "output_type": "display_data"
    }
   ],
   "source": [
    "import matplotlib.pyplot as pl\n",
    "%matplotlib inline \n",
    "bikes.plot(kind = 'scatter', x = 'temperature', y = 'rentals')"
   ]
  },
  {
   "cell_type": "code",
   "execution_count": 57,
   "metadata": {},
   "outputs": [
    {
     "data": {
      "text/plain": [
       "<AxesSubplot:xlabel='humidity', ylabel='rentals'>"
      ]
     },
     "execution_count": 57,
     "metadata": {},
     "output_type": "execute_result"
    },
    {
     "data": {
      "image/png": "[encoded data removed]",
      "text/plain": [
       "<Figure size 432x288 with 1 Axes>"
      ]
     },
     "metadata": {
      "needs_background": "light"
     },
     "output_type": "display_data"
    }
   ],
   "source": [
    "bikes.plot(kind = 'scatter', x = 'humidity', y = 'rentals')"
   ]
  },
  {
   "cell_type": "code",
   "execution_count": 58,
   "metadata": {},
   "outputs": [
    {
     "data": {
      "text/plain": [
       "<AxesSubplot:xlabel='windspeed', ylabel='rentals'>"
      ]
     },
     "execution_count": 58,
     "metadata": {},
     "output_type": "execute_result"
    },
    {
     "data": {
      "image/png": "[encoded data removed]",
      "text/plain": [
       "<Figure size 432x288 with 1 Axes>"
      ]
     },
     "metadata": {
      "needs_background": "light"
     },
     "output_type": "display_data"
    }
   ],
   "source": [
    "bikes.plot(kind = 'scatter', x = 'windspeed', y = 'rentals')"
   ]
  },
  {
   "cell_type": "markdown",
   "metadata": {},
   "source": [
    "## 3. Prepare the Data"
   ]
  },
  {
   "cell_type": "code",
   "execution_count": 87,
   "metadata": {},
   "outputs": [
    {
     "data": {
      "text/html": [
       "<div>\n",
       "<style scoped>\n",
       "    .dataframe tbody tr th:only-of-type {\n",
       "        vertical-align: middle;\n",
       "    }\n",
       "\n",
       "    .dataframe tbody tr th {\n",
       "        vertical-align: top;\n",
       "    }\n",
       "\n",
       "    .dataframe thead th {\n",
       "        text-align: right;\n",
       "    }\n",
       "</style>\n",
       "<table border=\"1\" class=\"dataframe\">\n",
       "  <thead>\n",
       "    <tr style=\"text-align: right;\">\n",
       "      <th></th>\n",
       "      <th>rentals</th>\n",
       "    </tr>\n",
       "  </thead>\n",
       "  <tbody>\n",
       "    <tr>\n",
       "      <th>0</th>\n",
       "      <td>985</td>\n",
       "    </tr>\n",
       "    <tr>\n",
       "      <th>1</th>\n",
       "      <td>801</td>\n",
       "    </tr>\n",
       "    <tr>\n",
       "      <th>2</th>\n",
       "      <td>1349</td>\n",
       "    </tr>\n",
       "    <tr>\n",
       "      <th>3</th>\n",
       "      <td>1562</td>\n",
       "    </tr>\n",
       "    <tr>\n",
       "      <th>4</th>\n",
       "      <td>1600</td>\n",
       "    </tr>\n",
       "    <tr>\n",
       "      <th>...</th>\n",
       "      <td>...</td>\n",
       "    </tr>\n",
       "    <tr>\n",
       "      <th>726</th>\n",
       "      <td>2114</td>\n",
       "    </tr>\n",
       "    <tr>\n",
       "      <th>727</th>\n",
       "      <td>3095</td>\n",
       "    </tr>\n",
       "    <tr>\n",
       "      <th>728</th>\n",
       "      <td>1341</td>\n",
       "    </tr>\n",
       "    <tr>\n",
       "      <th>729</th>\n",
       "      <td>1796</td>\n",
       "    </tr>\n",
       "    <tr>\n",
       "      <th>730</th>\n",
       "      <td>2729</td>\n",
       "    </tr>\n",
       "  </tbody>\n",
       "</table>\n",
       "<p>731 rows × 1 columns</p>\n",
       "</div>"
      ],
      "text/plain": [
       "     rentals\n",
       "0        985\n",
       "1        801\n",
       "2       1349\n",
       "3       1562\n",
       "4       1600\n",
       "..       ...\n",
       "726     2114\n",
       "727     3095\n",
       "728     1341\n",
       "729     1796\n",
       "730     2729\n",
       "\n",
       "[731 rows x 1 columns]"
      ]
     },
     "execution_count": 87,
     "metadata": {},
     "output_type": "execute_result"
    }
   ],
   "source": [
    "y=bikes[['rentals']]\n",
    "y"
   ]
  },
  {
   "cell_type": "code",
   "execution_count": 88,
   "metadata": {},
   "outputs": [
    {
     "data": {
      "text/html": [
       "<div>\n",
       "<style scoped>\n",
       "    .dataframe tbody tr th:only-of-type {\n",
       "        vertical-align: middle;\n",
       "    }\n",
       "\n",
       "    .dataframe tbody tr th {\n",
       "        vertical-align: top;\n",
       "    }\n",
       "\n",
       "    .dataframe thead th {\n",
       "        text-align: right;\n",
       "    }\n",
       "</style>\n",
       "<table border=\"1\" class=\"dataframe\">\n",
       "  <thead>\n",
       "    <tr style=\"text-align: right;\">\n",
       "      <th></th>\n",
       "      <th>temperature</th>\n",
       "      <th>humidity</th>\n",
       "      <th>windspeed</th>\n",
       "    </tr>\n",
       "  </thead>\n",
       "  <tbody>\n",
       "    <tr>\n",
       "      <th>0</th>\n",
       "      <td>46.716528</td>\n",
       "      <td>0.815969</td>\n",
       "      <td>13.669663</td>\n",
       "    </tr>\n",
       "    <tr>\n",
       "      <th>1</th>\n",
       "      <td>48.350239</td>\n",
       "      <td>0.800497</td>\n",
       "      <td>15.199782</td>\n",
       "    </tr>\n",
       "    <tr>\n",
       "      <th>2</th>\n",
       "      <td>34.212394</td>\n",
       "      <td>0.592097</td>\n",
       "      <td>13.247558</td>\n",
       "    </tr>\n",
       "    <tr>\n",
       "      <th>3</th>\n",
       "      <td>34.520000</td>\n",
       "      <td>0.623196</td>\n",
       "      <td>11.687963</td>\n",
       "    </tr>\n",
       "    <tr>\n",
       "      <th>4</th>\n",
       "      <td>36.800562</td>\n",
       "      <td>0.624643</td>\n",
       "      <td>13.148281</td>\n",
       "    </tr>\n",
       "    <tr>\n",
       "      <th>...</th>\n",
       "      <td>...</td>\n",
       "      <td>...</td>\n",
       "      <td>...</td>\n",
       "    </tr>\n",
       "    <tr>\n",
       "      <th>726</th>\n",
       "      <td>39.102528</td>\n",
       "      <td>0.482493</td>\n",
       "      <td>10.801229</td>\n",
       "    </tr>\n",
       "    <tr>\n",
       "      <th>727</th>\n",
       "      <td>39.031972</td>\n",
       "      <td>0.480433</td>\n",
       "      <td>8.996301</td>\n",
       "    </tr>\n",
       "    <tr>\n",
       "      <th>728</th>\n",
       "      <td>39.031972</td>\n",
       "      <td>0.717730</td>\n",
       "      <td>11.829425</td>\n",
       "    </tr>\n",
       "    <tr>\n",
       "      <th>729</th>\n",
       "      <td>39.243472</td>\n",
       "      <td>0.523039</td>\n",
       "      <td>12.805314</td>\n",
       "    </tr>\n",
       "    <tr>\n",
       "      <th>730</th>\n",
       "      <td>35.859472</td>\n",
       "      <td>0.494808</td>\n",
       "      <td>9.346850</td>\n",
       "    </tr>\n",
       "  </tbody>\n",
       "</table>\n",
       "<p>731 rows × 3 columns</p>\n",
       "</div>"
      ],
      "text/plain": [
       "     temperature  humidity  windspeed\n",
       "0      46.716528  0.815969  13.669663\n",
       "1      48.350239  0.800497  15.199782\n",
       "2      34.212394  0.592097  13.247558\n",
       "3      34.520000  0.623196  11.687963\n",
       "4      36.800562  0.624643  13.148281\n",
       "..           ...       ...        ...\n",
       "726    39.102528  0.482493  10.801229\n",
       "727    39.031972  0.480433   8.996301\n",
       "728    39.031972  0.717730  11.829425\n",
       "729    39.243472  0.523039  12.805314\n",
       "730    35.859472  0.494808   9.346850\n",
       "\n",
       "[731 rows x 3 columns]"
      ]
     },
     "execution_count": 88,
     "metadata": {},
     "output_type": "execute_result"
    }
   ],
   "source": [
    "x=bikes.iloc[:,0:3]\n",
    "x"
   ]
  },
  {
   "cell_type": "markdown",
   "metadata": {},
   "source": [
    "## Install sklearn library"
   ]
  },
  {
   "cell_type": "code",
   "execution_count": 14,
   "metadata": {},
   "outputs": [
    {
     "name": "stdout",
     "output_type": "stream",
     "text": [
      "Collecting sklearn\n",
      "  Downloading sklearn-0.0.tar.gz (1.1 kB)\n",
      "Requirement already satisfied: scikit-learn in c:\\users\\karthick\\anaconda3\\lib\\site-packages (from sklearn) (1.0.2)\n",
      "Requirement already satisfied: numpy>=1.14.6 in c:\\users\\karthick\\anaconda3\\lib\\site-packages (from scikit-learn->sklearn) (1.21.5)\n",
      "Requirement already satisfied: scipy>=1.1.0 in c:\\users\\karthick\\anaconda3\\lib\\site-packages (from scikit-learn->sklearn) (1.7.3)\n",
      "Requirement already satisfied: threadpoolctl>=2.0.0 in c:\\users\\karthick\\anaconda3\\lib\\site-packages (from scikit-learn->sklearn) (2.2.0)\n",
      "Requirement already satisfied: joblib>=0.11 in c:\\users\\karthick\\anaconda3\\lib\\site-packages (from scikit-learn->sklearn) (1.1.0)\n",
      "Building wheels for collected packages: sklearn\n",
      "  Building wheel for sklearn (setup.py): started\n",
      "  Building wheel for sklearn (setup.py): finished with status 'done'\n",
      "  Created wheel for sklearn: filename=sklearn-0.0-py2.py3-none-any.whl size=1310 sha256=42c96ad741ac58bfc1ed1d78268661340a8c25bb27e66f36362f15595bfcca79\n",
      "  Stored in directory: c:\\users\\karthick\\appdata\\local\\pip\\cache\\wheels\\e4\\7b\\98\\b6466d71b8d738a0c547008b9eb39bf8676d1ff6ca4b22af1c\n",
      "Successfully built sklearn\n",
      "Installing collected packages: sklearn\n",
      "Successfully installed sklearn-0.0\n"
     ]
    }
   ],
   "source": [
    "!pip install sklearn"
   ]
  },
  {
   "cell_type": "code",
   "execution_count": 68,
   "metadata": {},
   "outputs": [
    {
     "data": {
      "text/html": [
       "<div>\n",
       "<style scoped>\n",
       "    .dataframe tbody tr th:only-of-type {\n",
       "        vertical-align: middle;\n",
       "    }\n",
       "\n",
       "    .dataframe tbody tr th {\n",
       "        vertical-align: top;\n",
       "    }\n",
       "\n",
       "    .dataframe thead th {\n",
       "        text-align: right;\n",
       "    }\n",
       "</style>\n",
       "<table border=\"1\" class=\"dataframe\">\n",
       "  <thead>\n",
       "    <tr style=\"text-align: right;\">\n",
       "      <th></th>\n",
       "      <th>temperature</th>\n",
       "      <th>humidity</th>\n",
       "      <th>windspeed</th>\n",
       "    </tr>\n",
       "  </thead>\n",
       "  <tbody>\n",
       "    <tr>\n",
       "      <th>0</th>\n",
       "      <td>46.716528</td>\n",
       "      <td>0.815969</td>\n",
       "      <td>13.669663</td>\n",
       "    </tr>\n",
       "    <tr>\n",
       "      <th>1</th>\n",
       "      <td>48.350239</td>\n",
       "      <td>0.800497</td>\n",
       "      <td>15.199782</td>\n",
       "    </tr>\n",
       "    <tr>\n",
       "      <th>2</th>\n",
       "      <td>34.212394</td>\n",
       "      <td>0.592097</td>\n",
       "      <td>13.247558</td>\n",
       "    </tr>\n",
       "    <tr>\n",
       "      <th>3</th>\n",
       "      <td>34.520000</td>\n",
       "      <td>0.623196</td>\n",
       "      <td>11.687963</td>\n",
       "    </tr>\n",
       "    <tr>\n",
       "      <th>4</th>\n",
       "      <td>36.800562</td>\n",
       "      <td>0.624643</td>\n",
       "      <td>13.148281</td>\n",
       "    </tr>\n",
       "    <tr>\n",
       "      <th>...</th>\n",
       "      <td>...</td>\n",
       "      <td>...</td>\n",
       "      <td>...</td>\n",
       "    </tr>\n",
       "    <tr>\n",
       "      <th>726</th>\n",
       "      <td>39.102528</td>\n",
       "      <td>0.482493</td>\n",
       "      <td>10.801229</td>\n",
       "    </tr>\n",
       "    <tr>\n",
       "      <th>727</th>\n",
       "      <td>39.031972</td>\n",
       "      <td>0.480433</td>\n",
       "      <td>8.996301</td>\n",
       "    </tr>\n",
       "    <tr>\n",
       "      <th>728</th>\n",
       "      <td>39.031972</td>\n",
       "      <td>0.717730</td>\n",
       "      <td>11.829425</td>\n",
       "    </tr>\n",
       "    <tr>\n",
       "      <th>729</th>\n",
       "      <td>39.243472</td>\n",
       "      <td>0.523039</td>\n",
       "      <td>12.805314</td>\n",
       "    </tr>\n",
       "    <tr>\n",
       "      <th>730</th>\n",
       "      <td>35.859472</td>\n",
       "      <td>0.494808</td>\n",
       "      <td>9.346850</td>\n",
       "    </tr>\n",
       "  </tbody>\n",
       "</table>\n",
       "<p>731 rows × 3 columns</p>\n",
       "</div>"
      ],
      "text/plain": [
       "     temperature  humidity  windspeed\n",
       "0      46.716528  0.815969  13.669663\n",
       "1      48.350239  0.800497  15.199782\n",
       "2      34.212394  0.592097  13.247558\n",
       "3      34.520000  0.623196  11.687963\n",
       "4      36.800562  0.624643  13.148281\n",
       "..           ...       ...        ...\n",
       "726    39.102528  0.482493  10.801229\n",
       "727    39.031972  0.480433   8.996301\n",
       "728    39.031972  0.717730  11.829425\n",
       "729    39.243472  0.523039  12.805314\n",
       "730    35.859472  0.494808   9.346850\n",
       "\n",
       "[731 rows x 3 columns]"
      ]
     },
     "execution_count": 68,
     "metadata": {},
     "output_type": "execute_result"
    }
   ],
   "source": [
    "x"
   ]
  },
  {
   "cell_type": "markdown",
   "metadata": {},
   "source": [
    "### train_test_split data"
   ]
  },
  {
   "cell_type": "code",
   "execution_count": null,
   "metadata": {},
   "outputs": [],
   "source": [
    "from sklearn.model_selection import train_test_split\n",
    "x_train, x_test, y_train, y_test = train_test_split(x, y, random_state = 1234) "
   ]
  },
  {
   "cell_type": "code",
   "execution_count": 79,
   "metadata": {
    "scrolled": true
   },
   "outputs": [
    {
     "data": {
      "text/html": [
       "<div>\n",
       "<style scoped>\n",
       "    .dataframe tbody tr th:only-of-type {\n",
       "        vertical-align: middle;\n",
       "    }\n",
       "\n",
       "    .dataframe tbody tr th {\n",
       "        vertical-align: top;\n",
       "    }\n",
       "\n",
       "    .dataframe thead th {\n",
       "        text-align: right;\n",
       "    }\n",
       "</style>\n",
       "<table border=\"1\" class=\"dataframe\">\n",
       "  <thead>\n",
       "    <tr style=\"text-align: right;\">\n",
       "      <th></th>\n",
       "      <th>rentals</th>\n",
       "    </tr>\n",
       "  </thead>\n",
       "  <tbody>\n",
       "    <tr>\n",
       "      <th>271</th>\n",
       "      <td>4839</td>\n",
       "    </tr>\n",
       "    <tr>\n",
       "      <th>565</th>\n",
       "      <td>6591</td>\n",
       "    </tr>\n",
       "    <tr>\n",
       "      <th>449</th>\n",
       "      <td>4996</td>\n",
       "    </tr>\n",
       "    <tr>\n",
       "      <th>342</th>\n",
       "      <td>3620</td>\n",
       "    </tr>\n",
       "    <tr>\n",
       "      <th>488</th>\n",
       "      <td>6421</td>\n",
       "    </tr>\n",
       "    <tr>\n",
       "      <th>...</th>\n",
       "      <td>...</td>\n",
       "    </tr>\n",
       "    <tr>\n",
       "      <th>372</th>\n",
       "      <td>3425</td>\n",
       "    </tr>\n",
       "    <tr>\n",
       "      <th>204</th>\n",
       "      <td>3606</td>\n",
       "    </tr>\n",
       "    <tr>\n",
       "      <th>53</th>\n",
       "      <td>1917</td>\n",
       "    </tr>\n",
       "    <tr>\n",
       "      <th>294</th>\n",
       "      <td>4308</td>\n",
       "    </tr>\n",
       "    <tr>\n",
       "      <th>723</th>\n",
       "      <td>920</td>\n",
       "    </tr>\n",
       "  </tbody>\n",
       "</table>\n",
       "<p>548 rows × 1 columns</p>\n",
       "</div>"
      ],
      "text/plain": [
       "     rentals\n",
       "271     4839\n",
       "565     6591\n",
       "449     4996\n",
       "342     3620\n",
       "488     6421\n",
       "..       ...\n",
       "372     3425\n",
       "204     3606\n",
       "53      1917\n",
       "294     4308\n",
       "723      920\n",
       "\n",
       "[548 rows x 1 columns]"
      ]
     },
     "execution_count": 79,
     "metadata": {},
     "output_type": "execute_result"
    }
   ],
   "source": [
    "y_train"
   ]
  },
  {
   "cell_type": "code",
   "execution_count": 30,
   "metadata": {},
   "outputs": [
    {
     "data": {
      "text/html": [
       "<div>\n",
       "<style scoped>\n",
       "    .dataframe tbody tr th:only-of-type {\n",
       "        vertical-align: middle;\n",
       "    }\n",
       "\n",
       "    .dataframe tbody tr th {\n",
       "        vertical-align: top;\n",
       "    }\n",
       "\n",
       "    .dataframe thead th {\n",
       "        text-align: right;\n",
       "    }\n",
       "</style>\n",
       "<table border=\"1\" class=\"dataframe\">\n",
       "  <thead>\n",
       "    <tr style=\"text-align: right;\">\n",
       "      <th></th>\n",
       "      <th>rentals</th>\n",
       "    </tr>\n",
       "  </thead>\n",
       "  <tbody>\n",
       "    <tr>\n",
       "      <th>360</th>\n",
       "      <td>1162</td>\n",
       "    </tr>\n",
       "    <tr>\n",
       "      <th>695</th>\n",
       "      <td>5087</td>\n",
       "    </tr>\n",
       "    <tr>\n",
       "      <th>590</th>\n",
       "      <td>6883</td>\n",
       "    </tr>\n",
       "    <tr>\n",
       "      <th>705</th>\n",
       "      <td>5375</td>\n",
       "    </tr>\n",
       "    <tr>\n",
       "      <th>567</th>\n",
       "      <td>4459</td>\n",
       "    </tr>\n",
       "    <tr>\n",
       "      <th>...</th>\n",
       "      <td>...</td>\n",
       "    </tr>\n",
       "    <tr>\n",
       "      <th>681</th>\n",
       "      <td>6269</td>\n",
       "    </tr>\n",
       "    <tr>\n",
       "      <th>135</th>\n",
       "      <td>3958</td>\n",
       "    </tr>\n",
       "    <tr>\n",
       "      <th>17</th>\n",
       "      <td>683</td>\n",
       "    </tr>\n",
       "    <tr>\n",
       "      <th>668</th>\n",
       "      <td>1096</td>\n",
       "    </tr>\n",
       "    <tr>\n",
       "      <th>462</th>\n",
       "      <td>6857</td>\n",
       "    </tr>\n",
       "  </tbody>\n",
       "</table>\n",
       "<p>548 rows × 1 columns</p>\n",
       "</div>"
      ],
      "text/plain": [
       "     rentals\n",
       "360     1162\n",
       "695     5087\n",
       "590     6883\n",
       "705     5375\n",
       "567     4459\n",
       "..       ...\n",
       "681     6269\n",
       "135     3958\n",
       "17       683\n",
       "668     1096\n",
       "462     6857\n",
       "\n",
       "[548 rows x 1 columns]"
      ]
     },
     "execution_count": 30,
     "metadata": {},
     "output_type": "execute_result"
    }
   ],
   "source": [
    "y_train"
   ]
  },
  {
   "cell_type": "markdown",
   "metadata": {},
   "source": [
    "## 4. Train the Model"
   ]
  },
  {
   "cell_type": "code",
   "execution_count": 32,
   "metadata": {},
   "outputs": [],
   "source": [
    "from sklearn.linear_model import LinearRegression\n",
    "model = LinearRegression().fit(x_train, y_train)"
   ]
  },
  {
   "cell_type": "code",
   "execution_count": null,
   "metadata": {},
   "outputs": [],
   "source": []
  },
  {
   "cell_type": "code",
   "execution_count": 81,
   "metadata": {},
   "outputs": [
    {
     "data": {
      "text/plain": [
       "array([3811.77357088])"
      ]
     },
     "execution_count": 81,
     "metadata": {},
     "output_type": "execute_result"
    }
   ],
   "source": [
    "model.intercept_"
   ]
  },
  {
   "cell_type": "code",
   "execution_count": 35,
   "metadata": {},
   "outputs": [
    {
     "data": {
      "text/plain": [
       "array([[   80.1612583 , -4600.63176341,  -199.33717647]])"
      ]
     },
     "execution_count": 35,
     "metadata": {},
     "output_type": "execute_result"
    }
   ],
   "source": [
    "model.coef_"
   ]
  },
  {
   "cell_type": "markdown",
   "metadata": {},
   "source": [
    "The model coefficients correspond to the order in which the independent variables are listed in the training data. This means that the equation for the fitted regression line can be written as:\n",
    "\n",
    "$y = 3800.68 + 80.35 \\times temperature - 4665.74 \\times humidity - 196.22 \\times windspeed$\n",
    "\n",
    "With the linear regression equation, we can estimate what our model will predict given any weather condition. For example, given a temperature of $72^{\\circ}F$, $22\\%$ humidity and windspeed of $5$ miles per hour, our model would predict:\n",
    "\n",
    "$7,578 \\text{ bikes} \\approx 3800.68 + 80.35 \\times 72 - 4665.74 \\times .22 - 196.22 \\times 5$\n"
   ]
  },
  {
   "cell_type": "code",
   "execution_count": 85,
   "metadata": {},
   "outputs": [
    {
     "data": {
      "text/html": [
       "<div>\n",
       "<style scoped>\n",
       "    .dataframe tbody tr th:only-of-type {\n",
       "        vertical-align: middle;\n",
       "    }\n",
       "\n",
       "    .dataframe tbody tr th {\n",
       "        vertical-align: top;\n",
       "    }\n",
       "\n",
       "    .dataframe thead th {\n",
       "        text-align: right;\n",
       "    }\n",
       "</style>\n",
       "<table border=\"1\" class=\"dataframe\">\n",
       "  <thead>\n",
       "    <tr style=\"text-align: right;\">\n",
       "      <th></th>\n",
       "      <th>rentals</th>\n",
       "    </tr>\n",
       "  </thead>\n",
       "  <tbody>\n",
       "    <tr>\n",
       "      <th>21</th>\n",
       "      <td>981</td>\n",
       "    </tr>\n",
       "    <tr>\n",
       "      <th>322</th>\n",
       "      <td>3663</td>\n",
       "    </tr>\n",
       "    <tr>\n",
       "      <th>277</th>\n",
       "      <td>4826</td>\n",
       "    </tr>\n",
       "    <tr>\n",
       "      <th>524</th>\n",
       "      <td>7736</td>\n",
       "    </tr>\n",
       "    <tr>\n",
       "      <th>131</th>\n",
       "      <td>4864</td>\n",
       "    </tr>\n",
       "    <tr>\n",
       "      <th>...</th>\n",
       "      <td>...</td>\n",
       "    </tr>\n",
       "    <tr>\n",
       "      <th>62</th>\n",
       "      <td>1944</td>\n",
       "    </tr>\n",
       "    <tr>\n",
       "      <th>483</th>\n",
       "      <td>4220</td>\n",
       "    </tr>\n",
       "    <tr>\n",
       "      <th>282</th>\n",
       "      <td>5117</td>\n",
       "    </tr>\n",
       "    <tr>\n",
       "      <th>512</th>\n",
       "      <td>6591</td>\n",
       "    </tr>\n",
       "    <tr>\n",
       "      <th>78</th>\n",
       "      <td>2471</td>\n",
       "    </tr>\n",
       "  </tbody>\n",
       "</table>\n",
       "<p>183 rows × 1 columns</p>\n",
       "</div>"
      ],
      "text/plain": [
       "     rentals\n",
       "21       981\n",
       "322     3663\n",
       "277     4826\n",
       "524     7736\n",
       "131     4864\n",
       "..       ...\n",
       "62      1944\n",
       "483     4220\n",
       "282     5117\n",
       "512     6591\n",
       "78      2471\n",
       "\n",
       "[183 rows x 1 columns]"
      ]
     },
     "execution_count": 85,
     "metadata": {},
     "output_type": "execute_result"
    }
   ],
   "source": [
    "y_test"
   ]
  },
  {
   "cell_type": "code",
   "execution_count": 46,
   "metadata": {},
   "outputs": [
    {
     "data": {
      "text/plain": [
       "temperature    40.019000\n",
       "humidity        0.374979\n",
       "windspeed       7.693568\n",
       "Name: 404, dtype: float64"
      ]
     },
     "execution_count": 46,
     "metadata": {},
     "output_type": "execute_result"
    }
   ],
   "source": [
    "x_test.iloc[1,:]"
   ]
  },
  {
   "cell_type": "markdown",
   "metadata": {},
   "source": [
    "## 5. Evaluate the Model"
   ]
  },
  {
   "cell_type": "code",
   "execution_count": 82,
   "metadata": {
    "scrolled": true
   },
   "outputs": [
    {
     "data": {
      "text/plain": [
       "0.9820688657007965"
      ]
     },
     "execution_count": 82,
     "metadata": {},
     "output_type": "execute_result"
    }
   ],
   "source": [
    "model.score(x_test, y_test)"
   ]
  },
  {
   "cell_type": "code",
   "execution_count": 83,
   "metadata": {},
   "outputs": [],
   "source": [
    "y_pred = model.predict(x_test)"
   ]
  },
  {
   "cell_type": "code",
   "execution_count": 84,
   "metadata": {},
   "outputs": [
    {
     "data": {
      "text/plain": [
       "array([[ 563.10759512],\n",
       "       [3576.1922912 ],\n",
       "       [4815.43942496],\n",
       "       [7523.61071216],\n",
       "       [5036.57669461],\n",
       "       [4489.52317091],\n",
       "       [7733.9660823 ],\n",
       "       [4514.88171359],\n",
       "       [7294.35941465],\n",
       "       [2160.71308514],\n",
       "       [3803.44073803],\n",
       "       [2140.51548152],\n",
       "       [6734.11852679],\n",
       "       [3369.36654086],\n",
       "       [3633.48965882],\n",
       "       [5933.37506399],\n",
       "       [6798.32072131],\n",
       "       [2989.50080057],\n",
       "       [2029.16007213],\n",
       "       [4039.52103541],\n",
       "       [4748.33205384],\n",
       "       [4994.45196687],\n",
       "       [3883.15069622],\n",
       "       [6512.72327704],\n",
       "       [2492.6150494 ],\n",
       "       [4474.11666765],\n",
       "       [6269.49973113],\n",
       "       [1998.69480818],\n",
       "       [6191.49360377],\n",
       "       [8793.47494761],\n",
       "       [4513.73020624],\n",
       "       [3328.05584057],\n",
       "       [4642.24128899],\n",
       "       [7410.4224769 ],\n",
       "       [4984.43861944],\n",
       "       [2815.66127537],\n",
       "       [3507.0230653 ],\n",
       "       [7903.8026602 ],\n",
       "       [5079.78212838],\n",
       "       [3756.91963919],\n",
       "       [5312.93000095],\n",
       "       [2098.65593694],\n",
       "       [2180.27487388],\n",
       "       [4499.12341127],\n",
       "       [4752.49373434],\n",
       "       [4692.01823089],\n",
       "       [6727.34024948],\n",
       "       [1765.42292715],\n",
       "       [4268.57927424],\n",
       "       [4481.85077088],\n",
       "       [4850.12448126],\n",
       "       [3089.13741342],\n",
       "       [3693.00905595],\n",
       "       [3255.15408879],\n",
       "       [5640.93737784],\n",
       "       [2451.8969473 ],\n",
       "       [7346.00404615],\n",
       "       [3099.37007926],\n",
       "       [4199.69614275],\n",
       "       [4464.23282968],\n",
       "       [3075.20937986],\n",
       "       [5145.9968623 ],\n",
       "       [3850.8464689 ],\n",
       "       [5132.61714443],\n",
       "       [1417.91872639],\n",
       "       [4748.80064016],\n",
       "       [3221.31636337],\n",
       "       [7181.70288459],\n",
       "       [1296.60920331],\n",
       "       [4563.2802424 ],\n",
       "       [4353.7587963 ],\n",
       "       [3837.76202665],\n",
       "       [5497.67048377],\n",
       "       [4349.49701289],\n",
       "       [1399.60992853],\n",
       "       [2947.93829866],\n",
       "       [3970.95558381],\n",
       "       [2230.14187968],\n",
       "       [4248.23876288],\n",
       "       [1591.76064544],\n",
       "       [6396.29755499],\n",
       "       [7776.0101023 ],\n",
       "       [4749.92706723],\n",
       "       [4848.62522454],\n",
       "       [3763.12628515],\n",
       "       [3808.60115947],\n",
       "       [3467.79404108],\n",
       "       [4883.46448616],\n",
       "       [4234.72032728],\n",
       "       [3030.2320858 ],\n",
       "       [6246.39819891],\n",
       "       [4026.44972469],\n",
       "       [6038.70786132],\n",
       "       [4821.5796535 ],\n",
       "       [3130.06652124],\n",
       "       [5744.21515014],\n",
       "       [2204.19545115],\n",
       "       [7310.87228019],\n",
       "       [5107.93472126],\n",
       "       [4255.97585023],\n",
       "       [3732.36295672],\n",
       "       [3641.042003  ],\n",
       "       [4662.02250922],\n",
       "       [2124.18785024],\n",
       "       [ 846.1582572 ],\n",
       "       [7218.29783694],\n",
       "       [6777.20851746],\n",
       "       [5103.04193592],\n",
       "       [2082.1857569 ],\n",
       "       [6972.43966185],\n",
       "       [5934.21726731],\n",
       "       [6164.18657561],\n",
       "       [2546.71218536],\n",
       "       [4723.84310678],\n",
       "       [1410.41506666],\n",
       "       [7500.33478561],\n",
       "       [4275.72221947],\n",
       "       [ 990.70163567],\n",
       "       [1241.0663009 ],\n",
       "       [6551.5085454 ],\n",
       "       [4462.93527069],\n",
       "       [4827.38975466],\n",
       "       [6114.66940978],\n",
       "       [2012.95242268],\n",
       "       [4891.64967625],\n",
       "       [4355.79512385],\n",
       "       [5760.07171551],\n",
       "       [ 811.11891342],\n",
       "       [4413.36033742],\n",
       "       [3386.09965208],\n",
       "       [4014.44180902],\n",
       "       [5706.29725967],\n",
       "       [1210.82905133],\n",
       "       [7096.7824172 ],\n",
       "       [2482.29324322],\n",
       "       [ 952.00951913],\n",
       "       [4774.7560354 ],\n",
       "       [7200.32351418],\n",
       "       [5025.18216692],\n",
       "       [5138.03771992],\n",
       "       [2578.39477634],\n",
       "       [4600.35165293],\n",
       "       [3771.6119466 ],\n",
       "       [5987.84716667],\n",
       "       [7210.11507526],\n",
       "       [7301.16832209],\n",
       "       [3562.31710715],\n",
       "       [5212.993102  ],\n",
       "       [2937.0311273 ],\n",
       "       [2603.86732017],\n",
       "       [4349.43102848],\n",
       "       [3920.73377521],\n",
       "       [6858.04416321],\n",
       "       [2296.08700686],\n",
       "       [6244.76510987],\n",
       "       [4207.83640314],\n",
       "       [1164.48589187],\n",
       "       [5450.85359917],\n",
       "       [6545.51679347],\n",
       "       [5943.12170177],\n",
       "       [4520.15573668],\n",
       "       [6769.45834457],\n",
       "       [ 976.51839893],\n",
       "       [4845.28031132],\n",
       "       [3969.89411166],\n",
       "       [5293.47709536],\n",
       "       [3315.38526591],\n",
       "       [2226.32871453],\n",
       "       [8645.33215326],\n",
       "       [4170.90771539],\n",
       "       [4774.17915458],\n",
       "       [4980.0520912 ],\n",
       "       [4220.49824131],\n",
       "       [1381.85545324],\n",
       "       [4623.54394427],\n",
       "       [2033.64493717],\n",
       "       [2767.50966747],\n",
       "       [5528.89040605],\n",
       "       [1916.30233268],\n",
       "       [3853.62440099],\n",
       "       [4850.55351615],\n",
       "       [6786.18682244],\n",
       "       [2258.41126596]])"
      ]
     },
     "execution_count": 84,
     "metadata": {},
     "output_type": "execute_result"
    }
   ],
   "source": [
    "y_pred"
   ]
  },
  {
   "cell_type": "code",
   "execution_count": 42,
   "metadata": {
    "scrolled": true
   },
   "outputs": [
    {
     "data": {
      "text/plain": [
       "209.75356434069437"
      ]
     },
     "execution_count": 42,
     "metadata": {},
     "output_type": "execute_result"
    }
   ],
   "source": [
    "from sklearn.metrics import mean_absolute_error\n",
    "mean_absolute_error(y_test, y_pred)"
   ]
  },
  {
   "cell_type": "code",
   "execution_count": 54,
   "metadata": {},
   "outputs": [
    {
     "data": {
      "text/plain": [
       "(183, 1)"
      ]
     },
     "execution_count": 54,
     "metadata": {},
     "output_type": "execute_result"
    }
   ],
   "source": [
    "y_pred.shape # training data"
   ]
  },
  {
   "cell_type": "code",
   "execution_count": 55,
   "metadata": {},
   "outputs": [
    {
     "data": {
      "text/html": [
       "<div>\n",
       "<style scoped>\n",
       "    .dataframe tbody tr th:only-of-type {\n",
       "        vertical-align: middle;\n",
       "    }\n",
       "\n",
       "    .dataframe tbody tr th {\n",
       "        vertical-align: top;\n",
       "    }\n",
       "\n",
       "    .dataframe thead th {\n",
       "        text-align: right;\n",
       "    }\n",
       "</style>\n",
       "<table border=\"1\" class=\"dataframe\">\n",
       "  <thead>\n",
       "    <tr style=\"text-align: right;\">\n",
       "      <th></th>\n",
       "      <th>rentals</th>\n",
       "    </tr>\n",
       "  </thead>\n",
       "  <tbody>\n",
       "    <tr>\n",
       "      <th>21</th>\n",
       "      <td>981</td>\n",
       "    </tr>\n",
       "    <tr>\n",
       "      <th>322</th>\n",
       "      <td>3663</td>\n",
       "    </tr>\n",
       "    <tr>\n",
       "      <th>277</th>\n",
       "      <td>4826</td>\n",
       "    </tr>\n",
       "    <tr>\n",
       "      <th>524</th>\n",
       "      <td>7736</td>\n",
       "    </tr>\n",
       "    <tr>\n",
       "      <th>131</th>\n",
       "      <td>4864</td>\n",
       "    </tr>\n",
       "    <tr>\n",
       "      <th>...</th>\n",
       "      <td>...</td>\n",
       "    </tr>\n",
       "    <tr>\n",
       "      <th>62</th>\n",
       "      <td>1944</td>\n",
       "    </tr>\n",
       "    <tr>\n",
       "      <th>483</th>\n",
       "      <td>4220</td>\n",
       "    </tr>\n",
       "    <tr>\n",
       "      <th>282</th>\n",
       "      <td>5117</td>\n",
       "    </tr>\n",
       "    <tr>\n",
       "      <th>512</th>\n",
       "      <td>6591</td>\n",
       "    </tr>\n",
       "    <tr>\n",
       "      <th>78</th>\n",
       "      <td>2471</td>\n",
       "    </tr>\n",
       "  </tbody>\n",
       "</table>\n",
       "<p>183 rows × 1 columns</p>\n",
       "</div>"
      ],
      "text/plain": [
       "     rentals\n",
       "21       981\n",
       "322     3663\n",
       "277     4826\n",
       "524     7736\n",
       "131     4864\n",
       "..       ...\n",
       "62      1944\n",
       "483     4220\n",
       "282     5117\n",
       "512     6591\n",
       "78      2471\n",
       "\n",
       "[183 rows x 1 columns]"
      ]
     },
     "execution_count": 55,
     "metadata": {},
     "output_type": "execute_result"
    }
   ],
   "source": [
    "y_test"
   ]
  },
  {
   "cell_type": "code",
   "execution_count": 43,
   "metadata": {},
   "outputs": [
    {
     "data": {
      "text/plain": [
       "array([[5551.31317415],\n",
       "       [3760.99253227],\n",
       "       [5546.74517794],\n",
       "       [7616.50325992],\n",
       "       [5280.74231193],\n",
       "       [5631.79911857],\n",
       "       [1482.99860983],\n",
       "       [1302.76947132],\n",
       "       [5665.92049797],\n",
       "       [3812.15420019],\n",
       "       [4132.12672652],\n",
       "       [7999.65198389],\n",
       "       [7583.15807732],\n",
       "       [1301.08369952],\n",
       "       [4499.12341127],\n",
       "       [1340.13472201],\n",
       "       [3569.38742773],\n",
       "       [4733.95623859],\n",
       "       [5472.9268347 ],\n",
       "       [3330.09003131],\n",
       "       [7958.64134985],\n",
       "       [7368.92394884],\n",
       "       [4857.99889809],\n",
       "       [4904.21729288],\n",
       "       [4443.9667219 ],\n",
       "       [4026.44972469],\n",
       "       [2353.42862139],\n",
       "       [2226.32871453],\n",
       "       [5722.75701004],\n",
       "       [4641.52168746],\n",
       "       [7201.42141452],\n",
       "       [4748.30295561],\n",
       "       [7394.30389244],\n",
       "       [1035.62505576],\n",
       "       [7380.01231116],\n",
       "       [5700.14743574],\n",
       "       [4865.67536555],\n",
       "       [4220.49824131],\n",
       "       [6786.18682244],\n",
       "       [2984.37567809],\n",
       "       [6922.09811835],\n",
       "       [7376.78544927],\n",
       "       [5807.82636963],\n",
       "       [4166.66008761],\n",
       "       [4255.97585023],\n",
       "       [7500.33478561],\n",
       "       [4464.23282968],\n",
       "       [5293.47709536],\n",
       "       [1765.42292715],\n",
       "       [2823.78679831],\n",
       "       [ 952.00951913],\n",
       "       [6396.29755499],\n",
       "       [4628.87050031],\n",
       "       [4355.79512385],\n",
       "       [4293.47926812],\n",
       "       [4484.52435947],\n",
       "       [3993.30586157],\n",
       "       [2943.04652771],\n",
       "       [4955.09216855],\n",
       "       [2767.50966747],\n",
       "       [7402.38727768],\n",
       "       [4039.52103541],\n",
       "       [1434.22670296],\n",
       "       [1784.17742345],\n",
       "       [2889.18898677],\n",
       "       [4845.28031132],\n",
       "       [5673.76624569],\n",
       "       [6269.49973113],\n",
       "       [6769.45834457],\n",
       "       [6652.80928853],\n",
       "       [2875.12883366],\n",
       "       [1006.22859766],\n",
       "       [3428.5693117 ],\n",
       "       [1430.18837954],\n",
       "       [4315.5046784 ],\n",
       "       [7133.46090306],\n",
       "       [1410.41506666],\n",
       "       [5465.62191373],\n",
       "       [7310.87228019],\n",
       "       [4199.69614275],\n",
       "       [4978.12904046],\n",
       "       [1575.65679079],\n",
       "       [4474.11666765],\n",
       "       [4413.36033742],\n",
       "       [7706.66649101],\n",
       "       [1320.07580241],\n",
       "       [1945.54476505],\n",
       "       [4239.23534093],\n",
       "       [5997.80212147],\n",
       "       [6825.7504524 ],\n",
       "       [4642.24128899],\n",
       "       [6488.21089455],\n",
       "       [2037.42168197],\n",
       "       [5989.8619606 ],\n",
       "       [3153.77394279],\n",
       "       [6286.79348748],\n",
       "       [4926.28024948],\n",
       "       [ 911.45202856],\n",
       "       [ 740.81804577],\n",
       "       [4034.29356679],\n",
       "       [7444.86774944],\n",
       "       [1591.76064544],\n",
       "       [2452.39625681],\n",
       "       [2852.67351026],\n",
       "       [4434.90094266],\n",
       "       [1119.13536098],\n",
       "       [5934.21726731],\n",
       "       [2750.14304622],\n",
       "       [4722.4757416 ],\n",
       "       [3883.15069622],\n",
       "       [6187.2237521 ],\n",
       "       [5640.93737784],\n",
       "       [5744.21515014],\n",
       "       [4353.7587963 ],\n",
       "       [5382.80983921],\n",
       "       [1924.74150789],\n",
       "       [3850.8464689 ],\n",
       "       [4961.73443173],\n",
       "       [7017.72467555],\n",
       "       [4342.35977595],\n",
       "       [7869.95938343],\n",
       "       [6245.85694675],\n",
       "       [5257.40244047],\n",
       "       [3099.37007926],\n",
       "       [3986.67269404],\n",
       "       [3710.54122791],\n",
       "       [6764.50777004],\n",
       "       [4031.50697143],\n",
       "       [6972.43966185],\n",
       "       [4234.72032728],\n",
       "       [6227.37990537],\n",
       "       [7155.57744626],\n",
       "       [3579.68968119],\n",
       "       [4692.01823089],\n",
       "       [4774.7560354 ],\n",
       "       [4275.72221947],\n",
       "       [3487.33044218],\n",
       "       [3181.24250306],\n",
       "       [3315.38526591],\n",
       "       [4850.12448126],\n",
       "       [7496.27519095],\n",
       "       [1957.47843541],\n",
       "       [3359.0343461 ],\n",
       "       [4894.22679075],\n",
       "       [4940.49270859],\n",
       "       [5377.99444567],\n",
       "       [3619.42495886],\n",
       "       [2989.50080057],\n",
       "       [5887.68353889],\n",
       "       [1336.47928125],\n",
       "       [4774.17915458],\n",
       "       [4697.65290785],\n",
       "       [1771.89602085],\n",
       "       [7829.67003521],\n",
       "       [4744.2199103 ],\n",
       "       [2937.0311273 ],\n",
       "       [7843.81863572],\n",
       "       [5532.0210438 ],\n",
       "       [7027.87387784],\n",
       "       [1164.48589187],\n",
       "       [6797.42754595],\n",
       "       [5103.04193592],\n",
       "       [7318.87730139],\n",
       "       [7346.00404615],\n",
       "       [3038.57981611],\n",
       "       [6935.16830111],\n",
       "       [3690.54161921],\n",
       "       [5274.6759303 ],\n",
       "       [5474.34193286],\n",
       "       [7389.05461733],\n",
       "       [3837.76202665],\n",
       "       [7657.59490147],\n",
       "       [4384.55482759],\n",
       "       [4503.80382136],\n",
       "       [2012.95242268],\n",
       "       [6940.83899292],\n",
       "       [1210.82905133],\n",
       "       [4627.84879618],\n",
       "       [7407.39622165],\n",
       "       [5036.57669461],\n",
       "       [1352.14628572],\n",
       "       [4698.24756868],\n",
       "       [5459.03543911]])"
      ]
     },
     "execution_count": 43,
     "metadata": {},
     "output_type": "execute_result"
    }
   ],
   "source": [
    "y_pred"
   ]
  },
  {
   "cell_type": "code",
   "execution_count": null,
   "metadata": {},
   "outputs": [],
   "source": []
  }
 ],
 "metadata": {
  "colab": {
   "collapsed_sections": [],
   "name": "3.3 - Pandas Data Selection.ipynb",
   "provenance": [],
   "toc_visible": true,
   "version": "0.3.2"
  },
  "kernelspec": {
   "display_name": "Python 3 (ipykernel)",
   "language": "python",
   "name": "python3"
  },
  "language_info": {
   "codemirror_mode": {
    "name": "ipython",
    "version": 3
   },
   "file_extension": ".py",
   "mimetype": "text/x-python",
   "name": "python",
   "nbconvert_exporter": "python",
   "pygments_lexer": "ipython3",
   "version": "3.9.12"
  }
 },
 "nbformat": 4,
 "nbformat_minor": 4
}
