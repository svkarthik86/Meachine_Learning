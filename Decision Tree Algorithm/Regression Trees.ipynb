{
 "cells": [
  {
   "cell_type": "markdown",
   "id": "11963cc7",
   "metadata": {},
   "source": [
    "# Working with Regression Trees in Python\n",
    "\n",
    "## Learning Objectives\n",
    "Decision Trees are one of the most popular approaches to supervised machine learning. Decison Trees use an inverted tree-like structure to model the relationship between independent variables and a dependent variable. A tree with a continuous dependent variable is known as a **Regression Tree**. By the end of this tutorial, you will have learned:\n",
    "\n",
    "+ How to import, explore and prepare data\n",
    "+ How to build a Regression Tree model\n",
    "+ How to visualize the structure of a Regression Tree\n",
    "+ How to Prune a Regression Tree "
   ]
  },
  {
   "cell_type": "markdown",
   "id": "2887bb87",
   "metadata": {},
   "source": [
    "## 1. Collect the Data"
   ]
  },
  {
   "cell_type": "code",
   "execution_count": null,
   "id": "046f5901",
   "metadata": {},
   "outputs": [],
   "source": [
    "import pandas as pd\n",
    "income = pd.read_csv(\"income.csv\")\n",
    "income.head()"
   ]
  },
  {
   "cell_type": "markdown",
   "id": "e6095cae",
   "metadata": {},
   "source": [
    "## 2. Explore the Data"
   ]
  },
  {
   "cell_type": "code",
   "execution_count": null,
   "id": "67de73e2",
   "metadata": {},
   "outputs": [],
   "source": [
    "income.info()"
   ]
  },
  {
   "cell_type": "code",
   "execution_count": null,
   "id": "acdf6ca5",
   "metadata": {},
   "outputs": [],
   "source": [
    "income.describe()"
   ]
  },
  {
   "cell_type": "code",
   "execution_count": null,
   "id": "7239372b",
   "metadata": {},
   "outputs": [],
   "source": [
    "%matplotlib inline\n",
    "from matplotlib import pyplot as plt\n",
    "import seaborn as sns"
   ]
  },
  {
   "cell_type": "code",
   "execution_count": null,
   "id": "19e0d8b6",
   "metadata": {},
   "outputs": [],
   "source": [
    "ax = sns.boxplot(data = income, x = 'Education', y = 'Salary')"
   ]
  },
  {
   "cell_type": "code",
   "execution_count": null,
   "id": "3178ca71",
   "metadata": {},
   "outputs": [],
   "source": [
    "ax = sns.boxplot(data = income, x = 'Education', y = 'Age')"
   ]
  },
  {
   "cell_type": "code",
   "execution_count": null,
   "id": "2a2ac26f",
   "metadata": {},
   "outputs": [],
   "source": [
    "ax = sns.scatterplot(data = income, \n",
    "                     x = 'Age', \n",
    "                     y = 'Salary', \n",
    "                     hue = 'Education', \n",
    "                     style = 'Education', \n",
    "                     s = 150)\n",
    "ax = plt.legend(bbox_to_anchor = (1.02, 1), loc = 'upper left')"
   ]
  },
  {
   "cell_type": "markdown",
   "id": "d6d214f4",
   "metadata": {},
   "source": [
    "## 3. Prepare the Data"
   ]
  },
  {
   "cell_type": "code",
   "execution_count": null,
   "id": "a570e61b",
   "metadata": {
    "scrolled": false
   },
   "outputs": [],
   "source": [
    "y = income[['Salary']]"
   ]
  },
  {
   "cell_type": "code",
   "execution_count": null,
   "id": "1fda732e",
   "metadata": {
    "scrolled": false
   },
   "outputs": [],
   "source": [
    "X = income[['Age', 'Education']]"
   ]
  },
  {
   "cell_type": "code",
   "execution_count": null,
   "id": "346cdb9d",
   "metadata": {},
   "outputs": [],
   "source": [
    "from sklearn.model_selection import train_test_split\n",
    "X_train, X_test, y_train, y_test = train_test_split(X, y,\n",
    "                                                    train_size = 0.6,\n",
    "                                                    stratify = X['Education'],\n",
    "                                                    random_state = 1234) "
   ]
  },
  {
   "cell_type": "code",
   "execution_count": null,
   "id": "66162c9a",
   "metadata": {},
   "outputs": [],
   "source": [
    "X_train.shape, X_test.shape"
   ]
  },
  {
   "cell_type": "code",
   "execution_count": null,
   "id": "a422187f",
   "metadata": {},
   "outputs": [],
   "source": [
    "X_train.head()"
   ]
  },
  {
   "cell_type": "code",
   "execution_count": null,
   "id": "dd014435",
   "metadata": {
    "scrolled": false
   },
   "outputs": [],
   "source": [
    "X_train = pd.get_dummies(X_train)\n",
    "X_train.head()"
   ]
  },
  {
   "cell_type": "code",
   "execution_count": null,
   "id": "ebd1cb79",
   "metadata": {},
   "outputs": [],
   "source": [
    "X_test = pd.get_dummies(X_test)\n",
    "X_test.head()"
   ]
  },
  {
   "cell_type": "markdown",
   "id": "7e67d2b0",
   "metadata": {},
   "source": [
    "## 4. Train and Evaluate the Regression Tree"
   ]
  },
  {
   "cell_type": "code",
   "execution_count": null,
   "id": "3a4ab994",
   "metadata": {},
   "outputs": [],
   "source": [
    "from sklearn.tree import DecisionTreeRegressor\n",
    "regressor = DecisionTreeRegressor(random_state = 1234)"
   ]
  },
  {
   "cell_type": "code",
   "execution_count": null,
   "id": "eafcb43f",
   "metadata": {},
   "outputs": [],
   "source": [
    "model = regressor.fit(X_train, y_train)"
   ]
  },
  {
   "cell_type": "code",
   "execution_count": null,
   "id": "20fa1a33",
   "metadata": {
    "scrolled": false
   },
   "outputs": [],
   "source": [
    "model.score(X_test, y_test)"
   ]
  },
  {
   "cell_type": "code",
   "execution_count": null,
   "id": "5c0fde02",
   "metadata": {},
   "outputs": [],
   "source": [
    "y_test_pred = model.predict(X_test)"
   ]
  },
  {
   "cell_type": "code",
   "execution_count": null,
   "id": "8b85e7c9",
   "metadata": {},
   "outputs": [],
   "source": [
    "from sklearn.metrics import mean_absolute_error\n",
    "mean_absolute_error(y_test, y_test_pred)"
   ]
  },
  {
   "cell_type": "markdown",
   "id": "427b2a5e",
   "metadata": {},
   "source": [
    "## 5. Visualize the Regression Tree"
   ]
  },
  {
   "cell_type": "code",
   "execution_count": null,
   "id": "964ecd4e",
   "metadata": {},
   "outputs": [],
   "source": [
    "from sklearn import tree\n",
    "plt.figure(figsize = (15,15))\n",
    "tree.plot_tree(model, \n",
    "                   feature_names = list(X_train.columns), \n",
    "                   filled = True);"
   ]
  },
  {
   "cell_type": "code",
   "execution_count": null,
   "id": "bb8f98d8",
   "metadata": {},
   "outputs": [],
   "source": [
    "plt.figure(figsize = (15,15))\n",
    "tree.plot_tree(model, \n",
    "               feature_names = list(X_train.columns), \n",
    "               filled = True,\n",
    "               max_depth = 1);"
   ]
  },
  {
   "cell_type": "code",
   "execution_count": null,
   "id": "56b772d5",
   "metadata": {},
   "outputs": [],
   "source": [
    "importance = model.feature_importances_\n",
    "importance"
   ]
  },
  {
   "cell_type": "code",
   "execution_count": null,
   "id": "445cf11d",
   "metadata": {},
   "outputs": [],
   "source": [
    "feature_importance = pd.Series(importance, index = X_train.columns)\n",
    "feature_importance.sort_values().plot(kind = 'bar')\n",
    "plt.ylabel('Importance');"
   ]
  },
  {
   "cell_type": "markdown",
   "id": "e01f8ee5",
   "metadata": {},
   "source": [
    "## 6. Prune the Regression Tree"
   ]
  },
  {
   "cell_type": "code",
   "execution_count": null,
   "id": "60d416d8",
   "metadata": {},
   "outputs": [],
   "source": [
    "model.score(X_train, y_train)"
   ]
  },
  {
   "cell_type": "code",
   "execution_count": null,
   "id": "4d509666",
   "metadata": {},
   "outputs": [],
   "source": [
    "model.score(X_test, y_test)"
   ]
  },
  {
   "cell_type": "markdown",
   "id": "1f072e32",
   "metadata": {},
   "source": [
    "Let's get the list of effective alphas for the training data."
   ]
  },
  {
   "cell_type": "code",
   "execution_count": null,
   "id": "f2869785",
   "metadata": {},
   "outputs": [],
   "source": [
    "path = regressor.cost_complexity_pruning_path(X_train, y_train)\n",
    "ccp_alphas = path.ccp_alphas\n",
    "list(ccp_alphas)"
   ]
  },
  {
   "cell_type": "markdown",
   "id": "6595dad1",
   "metadata": {},
   "source": [
    "We remove the maximum effective alpha because it is the trivial tree with just one node."
   ]
  },
  {
   "cell_type": "code",
   "execution_count": null,
   "id": "d3a7b386",
   "metadata": {},
   "outputs": [],
   "source": [
    "ccp_alphas = ccp_alphas[:-1]\n",
    "list(ccp_alphas)"
   ]
  },
  {
   "cell_type": "markdown",
   "id": "4fd03c6f",
   "metadata": {},
   "source": [
    "Next, we train several trees using the different values for alpha."
   ]
  },
  {
   "cell_type": "code",
   "execution_count": null,
   "id": "0acf0ae7",
   "metadata": {},
   "outputs": [],
   "source": [
    "train_scores, test_scores = [], []\n",
    "for alpha in ccp_alphas:\n",
    "    regressor_ = DecisionTreeRegressor(random_state = 1234, ccp_alpha = alpha)\n",
    "    model_ = regressor_.fit(X_train, y_train)\n",
    "    train_scores.append(model_.score(X_train, y_train))\n",
    "    test_scores.append(model_.score(X_test, y_test))"
   ]
  },
  {
   "cell_type": "code",
   "execution_count": null,
   "id": "cb9ff58d",
   "metadata": {
    "scrolled": false
   },
   "outputs": [],
   "source": [
    "plt.plot(ccp_alphas, \n",
    "         train_scores, \n",
    "         marker = \"o\", \n",
    "         label = 'train_score', \n",
    "         drawstyle = \"steps-post\")\n",
    "plt.plot(ccp_alphas, \n",
    "         test_scores, \n",
    "         marker = \"o\", \n",
    "         label = 'test_score', \n",
    "         drawstyle = \"steps-post\")\n",
    "plt.legend()\n",
    "plt.title('R-squared by alpha');"
   ]
  },
  {
   "cell_type": "code",
   "execution_count": null,
   "id": "e1701fb5",
   "metadata": {
    "scrolled": false
   },
   "outputs": [],
   "source": [
    "test_scores"
   ]
  },
  {
   "cell_type": "code",
   "execution_count": null,
   "id": "8d9a9d5d",
   "metadata": {},
   "outputs": [],
   "source": [
    "ix = test_scores.index(max(test_scores))\n",
    "best_alpha = ccp_alphas[ix]\n",
    "best_alpha"
   ]
  },
  {
   "cell_type": "code",
   "execution_count": null,
   "id": "f9287b3e",
   "metadata": {},
   "outputs": [],
   "source": [
    "regressor_ = DecisionTreeRegressor(random_state = 1234, ccp_alpha = best_alpha)\n",
    "model_ = regressor_.fit(X_train, y_train)"
   ]
  },
  {
   "cell_type": "code",
   "execution_count": null,
   "id": "ca1b4dfc",
   "metadata": {},
   "outputs": [],
   "source": [
    "model_.score(X_train, y_train)"
   ]
  },
  {
   "cell_type": "code",
   "execution_count": null,
   "id": "f3510990",
   "metadata": {},
   "outputs": [],
   "source": [
    "model_.score(X_test, y_test)"
   ]
  },
  {
   "cell_type": "code",
   "execution_count": null,
   "id": "a872044a",
   "metadata": {},
   "outputs": [],
   "source": [
    "plt.figure(figsize = (15,15))\n",
    "tree.plot_tree(model_, \n",
    "                   feature_names = list(X_train.columns),\n",
    "                   filled = True);"
   ]
  }
 ],
 "metadata": {
  "kernelspec": {
   "display_name": "Python 3 (ipykernel)",
   "language": "python",
   "name": "python3"
  },
  "language_info": {
   "codemirror_mode": {
    "name": "ipython",
    "version": 3
   },
   "file_extension": ".py",
   "mimetype": "text/x-python",
   "name": "python",
   "nbconvert_exporter": "python",
   "pygments_lexer": "ipython3",
   "version": "3.9.12"
  }
 },
 "nbformat": 4,
 "nbformat_minor": 5
}
